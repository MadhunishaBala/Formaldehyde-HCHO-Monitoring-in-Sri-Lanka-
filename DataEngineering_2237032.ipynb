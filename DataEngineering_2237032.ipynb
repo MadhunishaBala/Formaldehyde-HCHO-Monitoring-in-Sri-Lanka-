{
  "nbformat": 4,
  "nbformat_minor": 0,
  "metadata": {
    "colab": {
      "provenance": []
    },
    "kernelspec": {
      "name": "python3",
      "display_name": "Python 3"
    },
    "language_info": {
      "name": "python"
    }
  },
  "cells": [
    {
      "cell_type": "code",
      "execution_count": 1,
      "metadata": {
        "id": "ok2pNidfSx5U",
        "colab": {
          "base_uri": "https://localhost:8080/"
        },
        "outputId": "c271a2ed-afdc-4375-ff73-ada871ecce6f"
      },
      "outputs": [
        {
          "output_type": "stream",
          "name": "stdout",
          "text": [
            "Requirement already satisfied: pyspark in /usr/local/lib/python3.10/dist-packages (3.5.1)\n",
            "Requirement already satisfied: py4j==0.10.9.7 in /usr/local/lib/python3.10/dist-packages (from pyspark) (0.10.9.7)\n",
            "openjdk-8-jdk-headless is already the newest version (8u402-ga-2ubuntu1~22.04).\n",
            "0 upgraded, 0 newly installed, 0 to remove and 45 not upgraded.\n"
          ]
        }
      ],
      "source": [
        "!pip install pyspark\n",
        "!pip install -U -q PyDrive\n",
        "!apt install openjdk-8-jdk-headless -qq\n",
        "import os\n",
        "os.environ[\"JAVA_HOME\"] = \"/usr/lib/jvm/java-8-openjdk-amd64\""
      ]
    },
    {
      "cell_type": "code",
      "source": [
        "import pyspark\n",
        "import pyspark.sql  as pyspark_sql\n",
        "import pyspark.sql.types as pyspark_types\n",
        "import pyspark.sql.functions  as F\n",
        "from pyspark import SparkContext, SparkConf\n",
        "from pyspark.sql.functions import row_number, desc\n",
        "from pyspark.sql.functions import col"
      ],
      "metadata": {
        "id": "WYnxHSxb1hEE"
      },
      "execution_count": 23,
      "outputs": []
    },
    {
      "cell_type": "code",
      "source": [
        "conf = SparkConf().set(\"spark.ui.port\", \"4050\")\n",
        "\n",
        "# create the context\n",
        "sc = pyspark.SparkContext(conf=conf)\n",
        "spark = pyspark_sql.SparkSession.builder.getOrCreate()"
      ],
      "metadata": {
        "id": "bARv2-aL3mOU"
      },
      "execution_count": 3,
      "outputs": []
    },
    {
      "cell_type": "code",
      "source": [
        "Monaragala_data = \"/content/drive/MyDrive/Formaldehyde-HCHO-Monitoring-in-Sri-Lanka-/Bibile_Monaragala_Kurunegala Proper_Jaffna Proper.csv\"\n",
        "Colombo_data = \"/content/drive/MyDrive/Formaldehyde-HCHO-Monitoring-in-Sri-Lanka-/ColomboP_Deniyaya_Matara_Nuwara Eliya.csv\"\n",
        "Kandy_data =\"/content/drive/MyDrive/Formaldehyde-HCHO-Monitoring-in-Sri-Lanka-/Kandy_Proper.csv\""
      ],
      "metadata": {
        "id": "8bGHMfeA6l_3"
      },
      "execution_count": 4,
      "outputs": []
    },
    {
      "cell_type": "code",
      "source": [
        "Monaragala = spark.read.csv(Monaragala_data).toDF(\"HCHO reading\",\"Location\",\"Current Date\",\"Next Date\")\n",
        "Colombo = spark.read.csv(Colombo_data).toDF(\"HCHO reading\",\"Location\",\"Current Date\",\"Next Date\")\n",
        "Kandy = spark.read.csv(Kandy_data).toDF(\"HCHO reading\",\"Location\",\"Current Date\",\"Next Date\")"
      ],
      "metadata": {
        "id": "8ENGmHbR64t3"
      },
      "execution_count": 5,
      "outputs": []
    },
    {
      "cell_type": "code",
      "source": [
        "print(\"Monaragala Data:\")\n",
        "Monaragala.show()"
      ],
      "metadata": {
        "colab": {
          "base_uri": "https://localhost:8080/"
        },
        "id": "2GMXSTfp7kpx",
        "outputId": "a921f811-99eb-4d87-819d-3d8d1cfeeac6"
      },
      "execution_count": 7,
      "outputs": [
        {
          "output_type": "stream",
          "name": "stdout",
          "text": [
            "Monaragala Data:\n",
            "+------------+------------+------------+---------+\n",
            "|HCHO reading|    Location|Current Date|Next Date|\n",
            "+------------+------------+------------+---------+\n",
            "| 0.000176071|Kandy Proper|    1/1/2019| 1/2/2019|\n",
            "|    9.22E-05|Kandy Proper|    1/2/2019| 1/3/2019|\n",
            "|        NULL|Kandy Proper|    1/3/2019| 1/4/2019|\n",
            "| 0.000190868|Kandy Proper|    1/4/2019| 1/5/2019|\n",
            "| 0.000121952|Kandy Proper|    1/5/2019| 1/6/2019|\n",
            "|   -6.51E-05|Kandy Proper|    1/6/2019| 1/7/2019|\n",
            "| 0.000163238|Kandy Proper|    1/7/2019| 1/8/2019|\n",
            "|   -6.74E-05|Kandy Proper|    1/8/2019| 1/9/2019|\n",
            "| 0.000127969|Kandy Proper|    1/9/2019|1/10/2019|\n",
            "|    4.55E-05|Kandy Proper|   1/10/2019|1/11/2019|\n",
            "|    3.60E-05|Kandy Proper|   1/11/2019|1/12/2019|\n",
            "| 0.000128663|Kandy Proper|   1/12/2019|1/13/2019|\n",
            "|        NULL|Kandy Proper|   1/13/2019|1/14/2019|\n",
            "|        NULL|Kandy Proper|   1/14/2019|1/15/2019|\n",
            "|    9.64E-05|Kandy Proper|   1/15/2019|1/16/2019|\n",
            "|        NULL|Kandy Proper|   1/16/2019|1/17/2019|\n",
            "| 0.000120097|Kandy Proper|   1/17/2019|1/18/2019|\n",
            "|-0.000119725|Kandy Proper|   1/18/2019|1/19/2019|\n",
            "| 0.000282526|Kandy Proper|   1/19/2019|1/20/2019|\n",
            "|    7.15E-05|Kandy Proper|   1/20/2019|1/21/2019|\n",
            "+------------+------------+------------+---------+\n",
            "only showing top 20 rows\n",
            "\n"
          ]
        }
      ]
    },
    {
      "cell_type": "code",
      "source": [
        "print(\"Colombo  Data:\")\n",
        "Colombo.show()"
      ],
      "metadata": {
        "colab": {
          "base_uri": "https://localhost:8080/"
        },
        "id": "-kXmL8EEFUHJ",
        "outputId": "5f3e9f04-4510-4072-bd42-7e009edcbd32"
      },
      "execution_count": 11,
      "outputs": [
        {
          "output_type": "stream",
          "name": "stdout",
          "text": [
            "Colombo  Data:\n",
            "+------------+--------------+------------+---------+\n",
            "|HCHO reading|      Location|Current Date|Next Date|\n",
            "+------------+--------------+------------+---------+\n",
            "| 0.000196983|Colombo Proper|    1/1/2019| 1/2/2019|\n",
            "| 0.000262552|Colombo Proper|    1/2/2019| 1/3/2019|\n",
            "|    9.85E-05|Colombo Proper|    1/3/2019| 1/4/2019|\n",
            "| 0.000209932|Colombo Proper|    1/4/2019| 1/5/2019|\n",
            "| 0.000178534|Colombo Proper|    1/5/2019| 1/6/2019|\n",
            "|  0.00010823|Colombo Proper|    1/6/2019| 1/7/2019|\n",
            "| 0.000392683|Colombo Proper|    1/7/2019| 1/8/2019|\n",
            "|    9.15E-05|Colombo Proper|    1/8/2019| 1/9/2019|\n",
            "| 0.000120598|Colombo Proper|    1/9/2019|1/10/2019|\n",
            "| 0.000129772|Colombo Proper|   1/10/2019|1/11/2019|\n",
            "| 0.000223919|Colombo Proper|   1/11/2019|1/12/2019|\n",
            "| 0.000156942|Colombo Proper|   1/12/2019|1/13/2019|\n",
            "|        NULL|Colombo Proper|   1/13/2019|1/14/2019|\n",
            "| 0.000133629|Colombo Proper|   1/14/2019|1/15/2019|\n",
            "|    6.37E-05|Colombo Proper|   1/15/2019|1/16/2019|\n",
            "| 0.000118106|Colombo Proper|   1/16/2019|1/17/2019|\n",
            "| 0.000247256|Colombo Proper|   1/17/2019|1/18/2019|\n",
            "|    3.67E-05|Colombo Proper|   1/18/2019|1/19/2019|\n",
            "|  0.00040575|Colombo Proper|   1/19/2019|1/20/2019|\n",
            "| 0.000168786|Colombo Proper|   1/20/2019|1/21/2019|\n",
            "+------------+--------------+------------+---------+\n",
            "only showing top 20 rows\n",
            "\n"
          ]
        }
      ]
    },
    {
      "cell_type": "code",
      "source": [
        "print(\"Kandy  Data:\")\n",
        "Kandy.show()"
      ],
      "metadata": {
        "colab": {
          "base_uri": "https://localhost:8080/"
        },
        "id": "rh0RhVrvFXjK",
        "outputId": "93bcccc6-6e4e-47e4-d807-79f9a89a4f07"
      },
      "execution_count": 9,
      "outputs": [
        {
          "output_type": "stream",
          "name": "stdout",
          "text": [
            "Kandy  Data:\n",
            "+------------+------------+------------+---------+\n",
            "|HCHO reading|    Location|Current Date|Next Date|\n",
            "+------------+------------+------------+---------+\n",
            "| 0.000176071|Kandy Proper|    1/1/2019| 1/2/2019|\n",
            "|    9.22E-05|Kandy Proper|    1/2/2019| 1/3/2019|\n",
            "|        NULL|Kandy Proper|    1/3/2019| 1/4/2019|\n",
            "| 0.000190868|Kandy Proper|    1/4/2019| 1/5/2019|\n",
            "| 0.000121952|Kandy Proper|    1/5/2019| 1/6/2019|\n",
            "|   -6.51E-05|Kandy Proper|    1/6/2019| 1/7/2019|\n",
            "| 0.000163238|Kandy Proper|    1/7/2019| 1/8/2019|\n",
            "|   -6.74E-05|Kandy Proper|    1/8/2019| 1/9/2019|\n",
            "| 0.000127969|Kandy Proper|    1/9/2019|1/10/2019|\n",
            "|    4.55E-05|Kandy Proper|   1/10/2019|1/11/2019|\n",
            "|    3.60E-05|Kandy Proper|   1/11/2019|1/12/2019|\n",
            "| 0.000128663|Kandy Proper|   1/12/2019|1/13/2019|\n",
            "|        NULL|Kandy Proper|   1/13/2019|1/14/2019|\n",
            "|        NULL|Kandy Proper|   1/14/2019|1/15/2019|\n",
            "|    9.64E-05|Kandy Proper|   1/15/2019|1/16/2019|\n",
            "|        NULL|Kandy Proper|   1/16/2019|1/17/2019|\n",
            "| 0.000120097|Kandy Proper|   1/17/2019|1/18/2019|\n",
            "|-0.000119725|Kandy Proper|   1/18/2019|1/19/2019|\n",
            "| 0.000282526|Kandy Proper|   1/19/2019|1/20/2019|\n",
            "|    7.15E-05|Kandy Proper|   1/20/2019|1/21/2019|\n",
            "+------------+------------+------------+---------+\n",
            "only showing top 20 rows\n",
            "\n"
          ]
        }
      ]
    },
    {
      "cell_type": "code",
      "source": [
        "print(\"Monaragala Null values:\")\n",
        "null_counts_dict = {c: Monaragala.filter(col(c).isNull()).count() for c in Monaragala.columns}\n",
        "for column, count in null_counts_dict.items():\n",
        "  print(f\"Column '{column}': {count} null values\")"
      ],
      "metadata": {
        "colab": {
          "base_uri": "https://localhost:8080/"
        },
        "id": "YDGr4Fh1Fgry",
        "outputId": "7a48f3b2-4d71-4327-a3b1-3992514b56cc"
      },
      "execution_count": 20,
      "outputs": [
        {
          "output_type": "stream",
          "name": "stdout",
          "text": [
            "Monaragala Null values:\n",
            "Column 'HCHO reading': 793 null values\n",
            "Column 'Location': 0 null values\n",
            "Column 'Current Date': 0 null values\n",
            "Column 'Next Date': 0 null values\n"
          ]
        }
      ]
    },
    {
      "cell_type": "code",
      "source": [
        "print(\"Colombo Null values:\")\n",
        "null_counts_dict = {c: Colombo.filter(col(c).isNull()).count() for c in Colombo.columns}\n",
        "for column, count in null_counts_dict.items():\n",
        "  print(f\"Column '{column}': {count} null values\")"
      ],
      "metadata": {
        "colab": {
          "base_uri": "https://localhost:8080/"
        },
        "id": "uOmJYhl6TD_n",
        "outputId": "56af5fea-ecfe-4fa9-ae67-72169fbeb3da"
      },
      "execution_count": 21,
      "outputs": [
        {
          "output_type": "stream",
          "name": "stdout",
          "text": [
            "Colombo Null values:\n",
            "Column 'HCHO reading': 2419 null values\n",
            "Column 'Location': 0 null values\n",
            "Column 'Current Date': 0 null values\n",
            "Column 'Next Date': 0 null values\n"
          ]
        }
      ]
    },
    {
      "cell_type": "code",
      "source": [
        "print(\"Kandy Null values:\")\n",
        "null_counts_dict = {c: Kandy.filter(col(c).isNull()).count() for c in Kandy.columns}\n",
        "for column, count in null_counts_dict.items():\n",
        "  print(f\"Column '{column}': {count} null values\")"
      ],
      "metadata": {
        "colab": {
          "base_uri": "https://localhost:8080/"
        },
        "id": "Fm8idrRPWhyF",
        "outputId": "f6421e8e-b746-4451-8b68-1b69be04d329"
      },
      "execution_count": 22,
      "outputs": [
        {
          "output_type": "stream",
          "name": "stdout",
          "text": [
            "Kandy Null values:\n",
            "Column 'HCHO reading': 793 null values\n",
            "Column 'Location': 0 null values\n",
            "Column 'Current Date': 0 null values\n",
            "Column 'Next Date': 0 null values\n"
          ]
        }
      ]
    }
  ]
}